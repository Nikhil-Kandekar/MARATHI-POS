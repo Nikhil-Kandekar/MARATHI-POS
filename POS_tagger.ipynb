{
 "cells": [
  {
   "cell_type": "markdown",
   "metadata": {},
   "source": [
    "# Problem Statement- Implement POS tagging for simple sentences written Hindi or any Indian Language"
   ]
  },
  {
   "cell_type": "code",
   "execution_count": 1,
   "metadata": {},
   "outputs": [
    {
     "name": "stderr",
     "output_type": "stream",
     "text": [
      "C:\\Users\\nikhi\\AppData\\Local\\Temp/ipykernel_10764/1766238045.py:10: FutureWarning: Passing a negative integer is deprecated in version 1.0 and will not be supported in future version. Instead, use None to not limit the column width.\n",
      "  pd.set_option('max_colwidth', -1)\n",
      "[nltk_data] Downloading package indian to\n",
      "[nltk_data]     C:\\Users\\nikhi\\AppData\\Roaming\\nltk_data...\n",
      "[nltk_data]   Package indian is already up-to-date!\n"
     ]
    },
    {
     "data": {
      "text/plain": [
       "True"
      ]
     },
     "execution_count": 1,
     "metadata": {},
     "output_type": "execute_result"
    }
   ],
   "source": [
    "import nltk\n",
    "import pandas as pd\n",
    "\n",
    "from nltk import word_tokenize\n",
    "from nltk.tag import untag\n",
    "from nltk import UnigramTagger\n",
    "\n",
    "pd.set_option('display.max_columns', None)  \n",
    "pd.set_option('display.expand_frame_repr', False)\n",
    "pd.set_option('max_colwidth', -1)\n",
    "\n",
    "from nltk.corpus import indian\n",
    "nltk.download('indian')"
   ]
  },
  {
   "cell_type": "code",
   "execution_count": 2,
   "metadata": {},
   "outputs": [],
   "source": [
    "tagged_set = 'marathi.pos'\n",
    "articles = indian.sents(tagged_set)"
   ]
  },
  {
   "cell_type": "code",
   "execution_count": 3,
   "metadata": {},
   "outputs": [
    {
     "name": "stdout",
     "output_type": "stream",
     "text": [
      "''\n",
      "सनातनवाद्यांनी\n",
      "व\n",
      "प्रतिगाम्यांनी\n",
      "समाज\n",
      "रसातळाला\n",
      "नेला\n",
      "असताना\n",
      "या\n",
      "अंधारात\n",
      "बाळशास्त्री\n",
      "जांभेकर\n",
      "यांनी\n",
      "'दर्पण'च्या\n",
      "माध्यमातून\n",
      "पहिली\n",
      "ज्ञानज्योत\n",
      "तेववली\n",
      ",\n",
      "''\n",
      "असे\n",
      "प्रतिपादन\n",
      "नटसम्राट\n",
      "प्रभाकर\n",
      "पणशीकर\n",
      "यांनी\n",
      "केले\n",
      ".\n"
     ]
    }
   ],
   "source": [
    "count = 0\n",
    "for sentence in articles[0]:\n",
    "    print(sentence)"
   ]
  },
  {
   "cell_type": "code",
   "execution_count": 4,
   "metadata": {},
   "outputs": [],
   "source": [
    "count=len(articles)"
   ]
  },
  {
   "cell_type": "code",
   "execution_count": 5,
   "metadata": {},
   "outputs": [
    {
     "data": {
      "text/plain": [
       "\"'' सनातनवाद्यांनी व प्रतिगाम्यांनी समाज रसातळाला नेला असताना या अंधारात बाळशास्त्री जांभेकर यांनी 'दर्पण'च्या माध्यमातून पहिली ज्ञानज्योत तेववली , '' असे प्रतिपादन नटसम्राट प्रभाकर पणशीकर यांनी केले .\""
      ]
     },
     "execution_count": 5,
     "metadata": {},
     "output_type": "execute_result"
    }
   ],
   "source": [
    "sentence1 = \" \".join(articles[0])\n",
    "sentence1"
   ]
  },
  {
   "cell_type": "code",
   "execution_count": 6,
   "metadata": {},
   "outputs": [
    {
     "name": "stdout",
     "output_type": "stream",
     "text": [
      "1197\n"
     ]
    }
   ],
   "source": [
    "print(count)"
   ]
  },
  {
   "cell_type": "code",
   "execution_count": 7,
   "metadata": {},
   "outputs": [
    {
     "name": "stdout",
     "output_type": "stream",
     "text": [
      "1077 1078\n"
     ]
    }
   ],
   "source": [
    "train_perc = .9\n",
    "train_rows = int(train_perc*count)\n",
    "test_rows = train_rows + 1\n",
    "print(train_rows,test_rows)"
   ]
  },
  {
   "cell_type": "code",
   "execution_count": 8,
   "metadata": {},
   "outputs": [],
   "source": [
    "data = indian.tagged_sents(tagged_set)\n",
    "train_data = data[:train_rows] \n",
    "test_data = data[test_rows:]\n"
   ]
  },
  {
   "cell_type": "code",
   "execution_count": 9,
   "metadata": {},
   "outputs": [
    {
     "data": {
      "text/plain": [
       "[('ज्या', 'PRP'),\n",
       " ('देशवासीयांकडे', None),\n",
       " ('केबल', 'NN'),\n",
       " ('नाही', 'VAUX'),\n",
       " (',', 'SYM'),\n",
       " ('त्यांना', 'PRP'),\n",
       " ('सात', 'QC'),\n",
       " ('मिनिटे', 'NN'),\n",
       " ('उशिरा', None),\n",
       " ('सामना', 'NN'),\n",
       " ('दाखवावा', None),\n",
       " ('लागत', 'VAUX'),\n",
       " ('असल्याने', 'VM'),\n",
       " ('निंबस', 'NNP'),\n",
       " ('अन्याय', 'NN'),\n",
       " ('करत', 'VM'),\n",
       " ('असल्याचे', 'VAUX'),\n",
       " ('मत', 'NN'),\n",
       " ('त्यांनी', 'PRP'),\n",
       " ('व्यक्त', 'JJ'),\n",
       " ('केले', 'VM'),\n",
       " ('होते', 'VAUX'),\n",
       " (';', 'SYM'),\n",
       " ('तसेच', 'CC'),\n",
       " ('त्याच', 'DEM'),\n",
       " ('वेळी', 'NN'),\n",
       " ('सरकारी', 'JJ'),\n",
       " ('पातळीवर', 'NN'),\n",
       " ('एक', 'QC'),\n",
       " ('विधेयक', 'NN'),\n",
       " ('मांडण्याचाही', None),\n",
       " ('विचार', 'NN'),\n",
       " ('बोलून', 'VM'),\n",
       " ('दाखविला', 'VAUX'),\n",
       " ('होता', 'VAUX'),\n",
       " ('.', 'SYM')]"
      ]
     },
     "execution_count": 9,
     "metadata": {},
     "output_type": "execute_result"
    }
   ],
   "source": [
    "unigram_tag = UnigramTagger(train_data)\n",
    "unigram_tag.tag(untag(test_data[0]))"
   ]
  },
  {
   "cell_type": "code",
   "execution_count": 10,
   "metadata": {},
   "outputs": [
    {
     "data": {
      "text/plain": [
       "0.5846774193548387"
      ]
     },
     "execution_count": 10,
     "metadata": {},
     "output_type": "execute_result"
    }
   ],
   "source": [
    "unigram_tag.evaluate(test_data)"
   ]
  },
  {
   "cell_type": "code",
   "execution_count": 11,
   "metadata": {},
   "outputs": [
    {
     "data": {
      "text/plain": [
       "[('ज्या', 'PRP'),\n",
       " ('देशवासीयांकडे', 'NN'),\n",
       " ('केबल', 'NN'),\n",
       " ('नाही', 'VAUX'),\n",
       " (',', 'SYM'),\n",
       " ('त्यांना', 'PRP'),\n",
       " ('सात', 'QC'),\n",
       " ('मिनिटे', 'NN'),\n",
       " ('उशिरा', 'NN'),\n",
       " ('सामना', 'NN'),\n",
       " ('दाखवावा', 'NN'),\n",
       " ('लागत', 'VAUX'),\n",
       " ('असल्याने', 'VM'),\n",
       " ('निंबस', 'NNP'),\n",
       " ('अन्याय', 'NN'),\n",
       " ('करत', 'VM'),\n",
       " ('असल्याचे', 'VAUX'),\n",
       " ('मत', 'NN'),\n",
       " ('त्यांनी', 'PRP'),\n",
       " ('व्यक्त', 'JJ'),\n",
       " ('केले', 'VM'),\n",
       " ('होते', 'VAUX'),\n",
       " (';', 'SYM'),\n",
       " ('तसेच', 'CC'),\n",
       " ('त्याच', 'DEM'),\n",
       " ('वेळी', 'NN'),\n",
       " ('सरकारी', 'JJ'),\n",
       " ('पातळीवर', 'NN'),\n",
       " ('एक', 'QC'),\n",
       " ('विधेयक', 'NN'),\n",
       " ('मांडण्याचाही', 'NN'),\n",
       " ('विचार', 'NN'),\n",
       " ('बोलून', 'VM'),\n",
       " ('दाखविला', 'VAUX'),\n",
       " ('होता', 'VAUX'),\n",
       " ('.', 'SYM')]"
      ]
     },
     "execution_count": 11,
     "metadata": {},
     "output_type": "execute_result"
    }
   ],
   "source": [
    "unigram_tagger = UnigramTagger(train_data,backoff=nltk.DefaultTagger('NN'))\n",
    "unigram_tagger.tag(untag(test_data[0]))\n"
   ]
  },
  {
   "cell_type": "code",
   "execution_count": 12,
   "metadata": {},
   "outputs": [
    {
     "data": {
      "text/plain": [
       "0.7240783410138248"
      ]
     },
     "execution_count": 12,
     "metadata": {},
     "output_type": "execute_result"
    }
   ],
   "source": [
    "unigram_tagger.evaluate(test_data)"
   ]
  },
  {
   "cell_type": "code",
   "execution_count": 42,
   "metadata": {},
   "outputs": [],
   "source": [
    "import dill as pickle \n",
    "\n",
    "with open('marathi_pos.pkl', 'wb') as fout:\n",
    "    pickle.dump(unigram_tagger, fout)"
   ]
  },
  {
   "cell_type": "code",
   "execution_count": 43,
   "metadata": {},
   "outputs": [],
   "source": [
    "with open('marathi_pos.pkl', 'rb') as fin:\n",
    "    model_loaded = pickle.load(fin)"
   ]
  },
  {
   "cell_type": "code",
   "execution_count": 44,
   "metadata": {},
   "outputs": [
    {
     "data": {
      "text/plain": [
       "[('ज्या', 'PRP'),\n",
       " ('देशवासीयांकडे', 'NN'),\n",
       " ('केबल', 'NN'),\n",
       " ('नाही', 'VAUX'),\n",
       " (',', 'SYM'),\n",
       " ('त्यांना', 'PRP'),\n",
       " ('सात', 'QC'),\n",
       " ('मिनिटे', 'NN'),\n",
       " ('उशिरा', 'NN'),\n",
       " ('सामना', 'NN'),\n",
       " ('दाखवावा', 'NN'),\n",
       " ('लागत', 'VAUX'),\n",
       " ('असल्याने', 'VM'),\n",
       " ('निंबस', 'NNP'),\n",
       " ('अन्याय', 'NN'),\n",
       " ('करत', 'VM'),\n",
       " ('असल्याचे', 'VAUX'),\n",
       " ('मत', 'NN'),\n",
       " ('त्यांनी', 'PRP'),\n",
       " ('व्यक्त', 'JJ'),\n",
       " ('केले', 'VM'),\n",
       " ('होते', 'VAUX'),\n",
       " (';', 'SYM'),\n",
       " ('तसेच', 'CC'),\n",
       " ('त्याच', 'DEM'),\n",
       " ('वेळी', 'NN'),\n",
       " ('सरकारी', 'JJ'),\n",
       " ('पातळीवर', 'NN'),\n",
       " ('एक', 'QC'),\n",
       " ('विधेयक', 'NN'),\n",
       " ('मांडण्याचाही', 'NN'),\n",
       " ('विचार', 'NN'),\n",
       " ('बोलून', 'VM'),\n",
       " ('दाखविला', 'VAUX'),\n",
       " ('होता', 'VAUX'),\n",
       " ('.', 'SYM')]"
      ]
     },
     "execution_count": 44,
     "metadata": {},
     "output_type": "execute_result"
    }
   ],
   "source": [
    "model_loaded.tag(untag(test_data[0]))"
   ]
  },
  {
   "cell_type": "code",
   "execution_count": null,
   "metadata": {},
   "outputs": [],
   "source": [
    "from collections import defaultdict\n",
    "\n",
    "def get_POS(article):\n",
    "\n",
    "    POS = {}\n",
    "\n",
    "    word_tags = unigram_tagger.tag(article)\n",
    "    for word, tag in word_tags:\n",
    "        if tag not in POS:\n",
    "            POS[tag] = [word]\n",
    "        else:\n",
    "            POS[tag].append(word)\n",
    "    \n",
    "    DF = {'Tags':[], 'Words':[], 'Count':[]}\n",
    "\n",
    "\n",
    "    for k in POS:\n",
    "        DF['Tags'].append(k)\n",
    "        DF['Words'].append(\" \".join(POS[k]))\n",
    "        DF['Count'].append(len(POS[k]))\n",
    "    \n",
    "    return pd.DataFrame(DF)"
   ]
  },
  {
   "cell_type": "markdown",
   "metadata": {},
   "source": [
    "\n",
    "\n",
    "Testing on External article\n"
   ]
  },
  {
   "cell_type": "code",
   "execution_count": null,
   "metadata": {},
   "outputs": [],
   "source": [
    "list='डॉ. मानसी शिरीष कणेकर  या मराठी लेखिका, कवयित्री व गायिका होत्या. कणेकर संजीवनी मराठे यांची मुलगी होत. त्यांचे पती अनिल हवालदार आणि शिरीष कणेकर हे दोघेही लेखक होत. मानसी कणेकर यांचे इंग्रजी, मराठी, संस्कृत आणि उर्दू या भाषांवर प्रभुत्व होते. त्या गझल लिहीत आणि गातही. मानसी कणेकर यांनी २९व्या वर्षी अनुवादशास्त्रात पीएच.डी. मिळवली होती. लॉर्का या प्रसिद्ध स्पॅनिश नाटककाराची तीन नाटके त्यांनी मराठीत अनुवादित केली होती. त्यांनी ज्ञानेश्वरांच्या अभंगांचे आशयलेखन केले. सिम्बोलिझम या विषयाचा त्यांचा अभ्यास असून त्यांच्या पुस्तकांतून आध्यात्मिक चित्रकार शिवानंद यांची प्रतीकात्मक चित्रे असत.'"
   ]
  },
  {
   "cell_type": "code",
   "execution_count": null,
   "metadata": {},
   "outputs": [],
   "source": [
    "df = get_POS(word_tokenize(list))  #With the help of nltk.tokenize.word_tokenize() method, we are able to extract the tokens from string of characters\n",
    "df"
   ]
  },
  {
   "cell_type": "code",
   "execution_count": null,
   "metadata": {},
   "outputs": [],
   "source": [
    "list1=\"जॉन 'माल्कम फ्रेझर' हा ऑस्ट्रेलियाचा बाविसावा पंतप्रधान होता. हा १९७५ ते १९८३ दरम्यान सत्तेवर होता.\""
   ]
  },
  {
   "cell_type": "code",
   "execution_count": null,
   "metadata": {},
   "outputs": [],
   "source": [
    "df = get_POS(word_tokenize(list1))\n",
    "df"
   ]
  },
  {
   "cell_type": "code",
   "execution_count": 3,
   "metadata": {},
   "outputs": [],
   "source": [
    "from fastapi import FastAPI\n",
    "from fastapi.middleware.cors import CORSMiddleware\n",
    "import pickle\n",
    "import nltk\n",
    "\n",
    "app = FastAPI()\n",
    "\n",
    "app.add_middleware(\n",
    "    CORSMiddleware,\n",
    "    allow_origins=['*'],\n",
    "    allow_credentials=True,\n",
    "    allow_methods=['*'],\n",
    "    allow_headers=['*'],\n",
    ")\n",
    "\n",
    "\n",
    "with open('marathi_pos.pkl', 'rb') as fin:\n",
    "    model_loaded = pickle.load(fin)\n",
    "    \n",
    "@app.get('/getpos')\n",
    "async def getpos(sentence):\n",
    "    nltk_tokens = nltk.word_tokenize(sentence)\n",
    "    result=model_loaded.tag(nltk_tokens)\n",
    "    return {\"POS\":result}"
   ]
  },
  {
   "cell_type": "code",
   "execution_count": 4,
   "metadata": {},
   "outputs": [
    {
     "name": "stderr",
     "output_type": "stream",
     "text": [
      "INFO:     Started server process [26180]\n",
      "INFO:     Waiting for application startup.\n",
      "INFO:     Application startup complete.\n",
      "INFO:     Uvicorn running on http://127.0.0.1:8000 (Press CTRL+C to quit)\n"
     ]
    },
    {
     "name": "stdout",
     "output_type": "stream",
     "text": [
      "INFO:     127.0.0.1:62831 - \"GET /docs HTTP/1.1\" 200 OK\n",
      "INFO:     127.0.0.1:62831 - \"GET /openapi.json HTTP/1.1\" 200 OK\n",
      "INFO:     127.0.0.1:62830 - \"GET /getpos?sentence=%E0%A4%9C%E0%A5%89%E0%A4%A8%20%27%E0%A4%AE%E0%A4%BE%E0%A4%B2%E0%A5%8D%E0%A4%95%E0%A4%AE%20%E0%A4%AB%E0%A5%8D%E0%A4%B0%E0%A5%87%E0%A4%9D%E0%A4%B0%27%20%E0%A4%B9%E0%A4%BE%20%E0%A4%91%E0%A4%B8%E0%A5%8D%E0%A4%9F%E0%A5%8D%E0%A4%B0%E0%A5%87%E0%A4%B2%E0%A4%BF%E0%A4%AF%E0%A4%BE%E0%A4%9A%E0%A4%BE%20%E0%A4%AC%E0%A4%BE%E0%A4%B5%E0%A4%BF%E0%A4%B8%E0%A4%BE%E0%A4%B5%E0%A4%BE%20%E0%A4%AA%E0%A4%82%E0%A4%A4%E0%A4%AA%E0%A5%8D%E0%A4%B0%E0%A4%A7%E0%A4%BE%E0%A4%A8%20%E0%A4%B9%E0%A5%8B%E0%A4%A4%E0%A4%BE.%20%E0%A4%B9%E0%A4%BE%20%E0%A5%A7%E0%A5%AF%E0%A5%AD%E0%A5%AB%20%E0%A4%A4%E0%A5%87%20%E0%A5%A7%E0%A5%AF%E0%A5%AE%E0%A5%A9%20%E0%A4%A6%E0%A4%B0%E0%A4%AE%E0%A5%8D%E0%A4%AF%E0%A4%BE%E0%A4%A8%20%E0%A4%B8%E0%A4%A4%E0%A5%8D%E0%A4%A4%E0%A5%87%E0%A4%B5%E0%A4%B0%20%E0%A4%B9%E0%A5%8B%E0%A4%A4%E0%A4%BE. HTTP/1.1\" 200 OK\n"
     ]
    },
    {
     "name": "stderr",
     "output_type": "stream",
     "text": [
      "INFO:     Shutting down\n",
      "INFO:     Waiting for application shutdown.\n",
      "INFO:     Application shutdown complete.\n",
      "INFO:     Finished server process [26180]\n"
     ]
    }
   ],
   "source": [
    "import nest_asyncio\n",
    "from pyngrok import ngrok\n",
    "import uvicorn\n",
    "\n",
    "nest_asyncio.apply()\n",
    "uvicorn.run(app, port=8000)"
   ]
  },
  {
   "cell_type": "code",
   "execution_count": null,
   "metadata": {},
   "outputs": [],
   "source": []
  }
 ],
 "metadata": {
  "kernelspec": {
   "display_name": "Python 3 (ipykernel)",
   "language": "python",
   "name": "python3"
  },
  "language_info": {
   "codemirror_mode": {
    "name": "ipython",
    "version": 3
   },
   "file_extension": ".py",
   "mimetype": "text/x-python",
   "name": "python",
   "nbconvert_exporter": "python",
   "pygments_lexer": "ipython3",
   "version": "3.9.7"
  }
 },
 "nbformat": 4,
 "nbformat_minor": 4
}
